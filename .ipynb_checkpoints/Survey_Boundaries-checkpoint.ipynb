{
 "cells": [
  {
   "cell_type": "code",
   "execution_count": 11,
   "id": "d4fae29d",
   "metadata": {},
   "outputs": [],
   "source": [
    "from astropy.io import fits\n",
    "from astropy.coordinates import SkyCoord\n",
    "\n",
    "import numpy as np\n",
    "import healpy as hp\n",
    "import pandas as pd\n",
    "import matplotlib.pyplot as plt\n",
    "from shapely.geometry import Polygon\n",
    "import geopandas as gp"
   ]
  },
  {
   "cell_type": "code",
   "execution_count": 2,
   "id": "2c0d3c57",
   "metadata": {},
   "outputs": [],
   "source": [
    "hdu = fits.open('dr2_tile_info.fits')"
   ]
  },
  {
   "cell_type": "code",
   "execution_count": 5,
   "id": "d26cdcd4",
   "metadata": {},
   "outputs": [],
   "source": [
    "tiles = hdu[1].data[:3]"
   ]
  },
  {
   "cell_type": "code",
   "execution_count": 14,
   "id": "379af2f0",
   "metadata": {},
   "outputs": [],
   "source": [
    "tile_shapes = []"
   ]
  },
  {
   "cell_type": "code",
   "execution_count": 15,
   "id": "5b61ea2f",
   "metadata": {},
   "outputs": [],
   "source": [
    "for i,tile in enumerate(tiles):\n",
    "    tshape = Polygon([(tile['RAC1'],tile['DECC1']),\n",
    "                      (tile['RAC2'],tile['DECC2']),\n",
    "                      (tile['RAC3'],tile['DECC3']),\n",
    "                      (tile['RAC4'],tile['DECC4'])])\n",
    "    tile_shapes.append(tshape)"
   ]
  },
  {
   "cell_type": "code",
   "execution_count": 16,
   "id": "c0264bf9",
   "metadata": {},
   "outputs": [],
   "source": [
    "survey = gp.GeoSeries(tile_shapes)"
   ]
  },
  {
   "cell_type": "code",
   "execution_count": null,
   "id": "87a4480f",
   "metadata": {},
   "outputs": [],
   "source": []
  }
 ],
 "metadata": {
  "kernelspec": {
   "display_name": "surp-skyviz",
   "language": "python",
   "name": "surp-skyviz"
  },
  "language_info": {
   "codemirror_mode": {
    "name": "ipython",
    "version": 3
   },
   "file_extension": ".py",
   "mimetype": "text/x-python",
   "name": "python",
   "nbconvert_exporter": "python",
   "pygments_lexer": "ipython3",
   "version": "3.9.5"
  }
 },
 "nbformat": 4,
 "nbformat_minor": 5
}
