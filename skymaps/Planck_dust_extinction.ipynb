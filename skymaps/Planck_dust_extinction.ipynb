{
 "cells": [
  {
   "cell_type": "code",
   "execution_count": null,
   "id": "23cc9775",
   "metadata": {},
   "outputs": [],
   "source": [
    "# data from http://pla.esac.esa.int/pla/aio/product-action?MAP.MAP_ID=COM_CompMap_Dust-DL07-AvMaps_2048_R2.00.fits\n",
    "# NOTE this is a Draine & Li model based on dust emission"
   ]
  }
 ],
 "metadata": {
  "kernelspec": {
   "display_name": "surp-skyviz",
   "language": "python",
   "name": "surp-skyviz"
  },
  "language_info": {
   "codemirror_mode": {
    "name": "ipython",
    "version": 3
   },
   "file_extension": ".py",
   "mimetype": "text/x-python",
   "name": "python",
   "nbconvert_exporter": "python",
   "pygments_lexer": "ipython3",
   "version": "3.9.5"
  }
 },
 "nbformat": 4,
 "nbformat_minor": 5
}
